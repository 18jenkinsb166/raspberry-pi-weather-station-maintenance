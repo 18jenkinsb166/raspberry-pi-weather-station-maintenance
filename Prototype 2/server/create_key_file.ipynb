{
 "cells": [
  {
   "cell_type": "code",
   "execution_count": 7,
   "metadata": {},
   "outputs": [],
   "source": [
    "import hashlib\n"
   ]
  },
  {
   "cell_type": "code",
   "execution_count": 8,
   "metadata": {},
   "outputs": [],
   "source": [
    "def hash(plain_txt):\n",
    "    \"\"\"one way hash using sha256\"\"\"\n",
    "    hash_ = hashlib.sha256()\n",
    "    hash_.update(plain_txt.encode())\n",
    "    return hash_.hexdigest()\n"
   ]
  },
  {
   "cell_type": "code",
   "execution_count": 9,
   "metadata": {},
   "outputs": [],
   "source": [
    "plain_key = \"ABC123-this-is-a-pi-secret-key\""
   ]
  },
  {
   "cell_type": "code",
   "execution_count": 10,
   "metadata": {},
   "outputs": [
    {
     "data": {
      "text/plain": [
       "'ABC1**********************-key'"
      ]
     },
     "execution_count": 10,
     "metadata": {},
     "output_type": "execute_result"
    }
   ],
   "source": [
    "output_plain_key = plain_key[:4] + \"*\"*( len(plain_key)-8 ) + plain_key[-4:]\n",
    "assert len(plain_key) == len(output_plain_key)\n",
    "output_plain_key\n"
   ]
  },
  {
   "cell_type": "code",
   "execution_count": 11,
   "metadata": {},
   "outputs": [
    {
     "data": {
      "text/plain": [
       "'e06bad9f8dc27e08f1f568daed0d3ed33c8cbeb42289f17dabc03d89398c5e9e'"
      ]
     },
     "execution_count": 11,
     "metadata": {},
     "output_type": "execute_result"
    }
   ],
   "source": [
    "hashed_key = hash(plain_key)\n",
    "hashed_key"
   ]
  },
  {
   "cell_type": "code",
   "execution_count": 12,
   "metadata": {},
   "outputs": [],
   "source": [
    "with open(\"hashed_key.key\", \"w\") as file:\n",
    "    file.write(hashed_key)"
   ]
  }
 ],
 "metadata": {
  "interpreter": {
   "hash": "990c90aba1b6ed1f57d2f271390f784dd962853896d808105e3b1a05f9da2157"
  },
  "kernelspec": {
   "display_name": "Python 3.10.0 64-bit",
   "language": "python",
   "name": "python3"
  },
  "language_info": {
   "codemirror_mode": {
    "name": "ipython",
    "version": 3
   },
   "file_extension": ".py",
   "mimetype": "text/x-python",
   "name": "python",
   "nbconvert_exporter": "python",
   "pygments_lexer": "ipython3",
   "version": "3.10.0"
  },
  "orig_nbformat": 4
 },
 "nbformat": 4,
 "nbformat_minor": 2
}
