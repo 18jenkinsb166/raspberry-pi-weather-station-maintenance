{
 "cells": [
  {
   "cell_type": "code",
   "execution_count": 1,
   "metadata": {},
   "outputs": [],
   "source": [
    "import requests\n",
    "import random\n",
    "import json"
   ]
  },
  {
   "cell_type": "code",
   "execution_count": 3,
   "metadata": {},
   "outputs": [
    {
     "data": {
      "text/plain": [
       "<Response [200]>"
      ]
     },
     "execution_count": 3,
     "metadata": {},
     "output_type": "execute_result"
    }
   ],
   "source": [
    "# test delete\n",
    "payload = {\n",
    "    \"secret_key\": \"ABC123-this-is-a-pi-secret-key\"\n",
    "}\n",
    "requests.post(\n",
    "    \"http://127.0.0.1:5000/utility/delete\",\n",
    "    json=payload\n",
    ")"
   ]
  },
  {
   "cell_type": "code",
   "execution_count": 2,
   "metadata": {},
   "outputs": [],
   "source": [
    "payload = {\n",
    "    \"secret_key\": \"ABC123-this-is-a-pi-secret-key\"\n",
    "}\n",
    "response = requests.post(\n",
    "    \"http://127.0.0.1:5000/utility/server_log\",\n",
    "    json=payload\n",
    ")\n",
    "with open(\"log local copy.txt\", \"wb\") as file:\n",
    "    file.write(\n",
    "        response.content\n",
    "    )"
   ]
  },
  {
   "cell_type": "code",
   "execution_count": 3,
   "metadata": {},
   "outputs": [],
   "source": [
    "# test load many\n",
    "def new_random_reading():\n",
    "    return {\n",
    "        'pressure': random.uniform(0,30),\n",
    "        'temperature': random.uniform(0, 30),\n",
    "        'humidity': random.uniform(0, 30),\n",
    "        'wind_speed': random.uniform(0, 30),\n",
    "        'wind_direction': random.uniform(0, 360),\n",
    "        'precipitation': random.uniform(0, 4)\n",
    "    }\n",
    "\n",
    "\n",
    "new_data_items = [new_random_reading() for _ in range(20)]\n",
    "payload = {\n",
    "    \"secret_key\": \"ABC123-this-is-a-pi-secret-key\",\n",
    "    'new_data_items': new_data_items\n",
    "}\n",
    "\n",
    "response = requests.post(\n",
    "    \"http://127.0.0.1:5000/utility/load_many\",\n",
    "    json=payload\n",
    ")\n"
   ]
  },
  {
   "cell_type": "code",
   "execution_count": 4,
   "metadata": {},
   "outputs": [
    {
     "name": "stdout",
     "output_type": "stream",
     "text": [
      "[{'humidity': 4.360484648335197, 'precipitation': 2.680329346341743, 'pressure': 8.964839094720844, 'temperature': 25.764399969991086, 'timestamp': '2022-07-14 09:14:42', 'wind_direction': 190.7669046675688, 'wind_speed': 24.477453672397168}, {'humidity': 8.829383865502631, 'precipitation': 1.0913989953423058, 'pressure': 19.633566379244677, 'temperature': 23.645262221958944, 'timestamp': '2022-07-14 09:14:42', 'wind_direction': 141.99318551560117, 'wind_speed': 11.991915395718713}, {'humidity': 2.530112092080652, 'precipitation': 2.665330063558725, 'pressure': 11.717578842186581, 'temperature': 17.669126918701608, 'timestamp': '2022-07-14 09:14:42', 'wind_direction': 63.662763213236246, 'wind_speed': 28.842174182442474}, {'humidity': 0.4450537527416787, 'precipitation': 0.2842678312062299, 'pressure': 5.86650563398266, 'temperature': 6.06665458777727, 'timestamp': '2022-07-14 09:14:42', 'wind_direction': 104.55837032421694, 'wind_speed': 21.088217814680462}, {'humidity': 17.282503989408458, 'precipitation': 2.509502343370694, 'pressure': 5.344053813294892, 'temperature': 17.462511217149935, 'timestamp': '2022-07-14 09:14:42', 'wind_direction': 299.9599637696366, 'wind_speed': 23.80046492716147}, {'humidity': 25.65332194802192, 'precipitation': 1.4310621278878357, 'pressure': 10.758664129776548, 'temperature': 13.998494264892171, 'timestamp': '2022-07-14 09:14:42', 'wind_direction': 330.2557857292878, 'wind_speed': 19.82157232324482}, {'humidity': 7.895511663352323, 'precipitation': 3.0054771630974195, 'pressure': 18.008382706804852, 'temperature': 18.864664514207874, 'timestamp': '2022-07-14 09:14:42', 'wind_direction': 237.01073811020325, 'wind_speed': 24.96639955216754}, {'humidity': 2.5821812246715115, 'precipitation': 1.1309460584569364, 'pressure': 18.22776609006859, 'temperature': 12.497933350811348, 'timestamp': '2022-07-14 09:14:42', 'wind_direction': 156.43147283176734, 'wind_speed': 9.133896284775691}, {'humidity': 18.53435128416234, 'precipitation': 1.455033723717567, 'pressure': 25.243271737812137, 'temperature': 18.24461712868372, 'timestamp': '2022-07-14 09:14:42', 'wind_direction': 138.1786983410865, 'wind_speed': 26.747566528234803}, {'humidity': 19.422735599594038, 'precipitation': 0.46462654321569197, 'pressure': 0.5340315828947106, 'temperature': 24.781812233455202, 'timestamp': '2022-07-14 09:14:42', 'wind_direction': 117.48768955570527, 'wind_speed': 11.71097484512734}, {'humidity': 12.22795462073111, 'precipitation': 2.5318734063865613, 'pressure': 12.035199438650448, 'temperature': 29.85534160391157, 'timestamp': '2022-07-14 09:14:42', 'wind_direction': 355.61464491335323, 'wind_speed': 22.75504309153093}, {'humidity': 23.310970783195362, 'precipitation': 1.7804160249397643, 'pressure': 29.478715471979676, 'temperature': 16.316524525317263, 'timestamp': '2022-07-14 09:14:42', 'wind_direction': 341.80405350067167, 'wind_speed': 26.678358576690815}, {'humidity': 26.182984740783386, 'precipitation': 2.8668381921058836, 'pressure': 15.431532586185533, 'temperature': 13.548882817325723, 'timestamp': '2022-07-14 09:14:42', 'wind_direction': 152.1362844157504, 'wind_speed': 13.195889962765609}, {'humidity': 0.17156578732249406, 'precipitation': 3.6448916466005574, 'pressure': 21.600115301360873, 'temperature': 23.013541921167985, 'timestamp': '2022-07-14 09:14:42', 'wind_direction': 202.86798825337547, 'wind_speed': 20.239164589067517}, {'humidity': 26.53609321166287, 'precipitation': 3.1309277380825686, 'pressure': 26.379383840119626, 'temperature': 16.767848041430998, 'timestamp': '2022-07-14 09:14:42', 'wind_direction': 156.15896557967355, 'wind_speed': 2.916750159267579}, {'humidity': 23.813462120800313, 'precipitation': 3.709479700004258, 'pressure': 18.827912439484603, 'temperature': 18.63774253984958, 'timestamp': '2022-07-14 09:14:42', 'wind_direction': 216.0446221000637, 'wind_speed': 3.6693866058447897}, {'humidity': 1.8343315831231433, 'precipitation': 1.4829416536330755, 'pressure': 14.636773763435794, 'temperature': 15.200069820305874, 'timestamp': '2022-07-14 09:14:42', 'wind_direction': 259.17425240347194, 'wind_speed': 18.583073067588458}, {'humidity': 6.032062323645996, 'precipitation': 0.4532324213456591, 'pressure': 27.3946198207081, 'temperature': 4.575102367022178, 'timestamp': '2022-07-14 09:14:42', 'wind_direction': 78.0464634437494, 'wind_speed': 22.965848351726386}, {'humidity': 27.421244107002, 'precipitation': 1.3104989721064815, 'pressure': 5.4490393158542645, 'temperature': 22.056204905110413, 'timestamp': '2022-07-14 09:14:42', 'wind_direction': 4.6800971341437725, 'wind_speed': 24.07956326341224}, {'humidity': 11.342247437554722, 'precipitation': 1.0351979319442632, 'pressure': 14.229828117443553, 'temperature': 17.262856118352374, 'timestamp': '2022-07-14 09:14:42', 'wind_direction': 249.82331675346148, 'wind_speed': 29.380271114634702}]\n"
     ]
    }
   ],
   "source": [
    "# test dump all\n",
    "payload = {\n",
    "    \"secret_key\": \"ABC123-this-is-a-pi-secret-key\",\n",
    "}\n",
    "\n",
    "response = requests.post(\n",
    "    \"http://127.0.0.1:5000/utility/dump_all\",\n",
    "    json=payload\n",
    ")\n",
    "data = json.loads(response.text)\n",
    "print(data)\n",
    "# cannot compare, will include time stamp"
   ]
  }
 ],
 "metadata": {
  "kernelspec": {
   "display_name": "Python 3.10.0 64-bit",
   "language": "python",
   "name": "python3"
  },
  "language_info": {
   "codemirror_mode": {
    "name": "ipython",
    "version": 3
   },
   "file_extension": ".py",
   "mimetype": "text/x-python",
   "name": "python",
   "nbconvert_exporter": "python",
   "pygments_lexer": "ipython3",
   "version": "3.10.0"
  },
  "orig_nbformat": 4,
  "vscode": {
   "interpreter": {
    "hash": "1215b1aecdd8c83375b241d0c862057777d1b41ed412da38189195d086960e71"
   }
  }
 },
 "nbformat": 4,
 "nbformat_minor": 2
}
