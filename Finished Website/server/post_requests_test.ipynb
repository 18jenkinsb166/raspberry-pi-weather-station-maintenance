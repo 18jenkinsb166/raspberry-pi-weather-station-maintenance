{
 "cells": [
  {
   "cell_type": "code",
   "execution_count": 1,
   "metadata": {},
   "outputs": [],
   "source": [
    "import requests\n",
    "import random\n",
    "import json"
   ]
  },
  {
   "cell_type": "code",
   "execution_count": 2,
   "metadata": {},
   "outputs": [
    {
     "data": {
      "text/plain": [
       "<Response [200]>"
      ]
     },
     "execution_count": 2,
     "metadata": {},
     "output_type": "execute_result"
    }
   ],
   "source": [
    "# test delete\n",
    "payload = {\n",
    "    \"secret_key\": \"ABC123-this-is-a-pi-secret-key\"\n",
    "}\n",
    "requests.post(\n",
    "    \"http://127.0.0.1:5000/utility/delete\",\n",
    "    json=payload\n",
    ")"
   ]
  },
  {
   "cell_type": "code",
   "execution_count": 3,
   "metadata": {},
   "outputs": [],
   "source": [
    "# local copy of server log\n",
    "payload = {\n",
    "    \"secret_key\": \"ABC123-this-is-a-pi-secret-key\"\n",
    "}\n",
    "response = requests.post(\n",
    "    \"http://127.0.0.1:5000/utility/server_log\",\n",
    "    json=payload\n",
    ")\n",
    "with open(\"log local copy.txt\", \"wb\") as file:\n",
    "    file.write(\n",
    "        response.content\n",
    "    )"
   ]
  },
  {
   "cell_type": "code",
   "execution_count": 4,
   "metadata": {},
   "outputs": [],
   "source": [
    "# test load many\n",
    "def new_random_reading():\n",
    "    return {\n",
    "        'pressure': random.uniform(0,30),\n",
    "        'temperature': random.uniform(0, 30),\n",
    "        'humidity': random.uniform(0, 30),\n",
    "        'wind_speed': random.uniform(0, 30),\n",
    "        'wind_direction': random.uniform(0, 360),\n",
    "        'precipitation': random.uniform(0, 4)\n",
    "    }\n",
    "\n",
    "\n",
    "new_data_items = [new_random_reading() for _ in range(20)]\n",
    "payload = {\n",
    "    \"secret_key\": \"ABC123-this-is-a-pi-secret-key\",\n",
    "    'new_data_items': new_data_items\n",
    "}\n",
    "\n",
    "response = requests.post(\n",
    "    \"http://127.0.0.1:5000/utility/load_many\",\n",
    "    json=payload\n",
    ")\n"
   ]
  },
  {
   "cell_type": "code",
   "execution_count": 5,
   "metadata": {},
   "outputs": [
    {
     "name": "stdout",
     "output_type": "stream",
     "text": [
      "[{'humidity': 22.8203281801948, 'precipitation': 0.3032516533214227, 'pressure': 23.38975654097813, 'temperature': 8.284453643918123, 'timestamp': '2022-07-14 16:36:37', 'wind_direction': 71.62529884289656, 'wind_speed': 7.827843300618137}, {'humidity': 1.3196526834861622, 'precipitation': 2.3071538083508516, 'pressure': 10.923941945635121, 'temperature': 15.780788954408179, 'timestamp': '2022-07-14 16:36:37', 'wind_direction': 102.86233147392021, 'wind_speed': 25.092287106520242}, {'humidity': 29.6561721813533, 'precipitation': 3.66915817099431, 'pressure': 19.936856167311017, 'temperature': 15.551139736280659, 'timestamp': '2022-07-14 16:36:37', 'wind_direction': 141.78872938259212, 'wind_speed': 25.104821318060303}, {'humidity': 15.386403609931081, 'precipitation': 1.6904048905575362, 'pressure': 0.9475499188856473, 'temperature': 16.955622642071592, 'timestamp': '2022-07-14 16:36:37', 'wind_direction': 202.58501775453922, 'wind_speed': 9.636933108931494}, {'humidity': 10.143857407945209, 'precipitation': 1.0226146549425308, 'pressure': 22.38158821009933, 'temperature': 5.470330642233336, 'timestamp': '2022-07-14 16:36:37', 'wind_direction': 86.02568930048291, 'wind_speed': 12.805377827545739}, {'humidity': 14.587642959972236, 'precipitation': 2.347943342974702, 'pressure': 13.694794147361906, 'temperature': 15.259813313061883, 'timestamp': '2022-07-14 16:36:37', 'wind_direction': 234.98887861963874, 'wind_speed': 22.692824810270505}, {'humidity': 29.6584810259031, 'precipitation': 2.1471800728617625, 'pressure': 10.706986649377246, 'temperature': 8.658241446456687, 'timestamp': '2022-07-14 16:36:37', 'wind_direction': 171.27977590568264, 'wind_speed': 9.942478008665484}, {'humidity': 19.001814712852372, 'precipitation': 0.34257575625282, 'pressure': 2.5124226836243615, 'temperature': 17.00726439237229, 'timestamp': '2022-07-14 16:36:37', 'wind_direction': 301.82788911445806, 'wind_speed': 14.17844701509964}, {'humidity': 13.30938691996073, 'precipitation': 1.619976561532607, 'pressure': 2.7856358173492533, 'temperature': 7.986151875162436, 'timestamp': '2022-07-14 16:36:37', 'wind_direction': 296.2632505906875, 'wind_speed': 19.798022065403256}, {'humidity': 21.70437377530398, 'precipitation': 0.27156208400686577, 'pressure': 19.851684294812955, 'temperature': 11.753752530374197, 'timestamp': '2022-07-14 16:36:37', 'wind_direction': 52.86881299056557, 'wind_speed': 23.832653467036142}, {'humidity': 11.558777177806506, 'precipitation': 3.2791416227546395, 'pressure': 29.91041742418336, 'temperature': 12.411427964011407, 'timestamp': '2022-07-14 16:36:37', 'wind_direction': 283.7556015499537, 'wind_speed': 25.325770255261606}, {'humidity': 25.44331731492156, 'precipitation': 1.4769104932214439, 'pressure': 6.998017284389835, 'temperature': 18.788700028439223, 'timestamp': '2022-07-14 16:36:37', 'wind_direction': 55.953759968268685, 'wind_speed': 27.367584414473882}, {'humidity': 21.219570020328824, 'precipitation': 2.5662557220560003, 'pressure': 21.259738797113002, 'temperature': 29.594935164392968, 'timestamp': '2022-07-14 16:36:37', 'wind_direction': 107.76607428072002, 'wind_speed': 2.607369534655408}, {'humidity': 26.986991117457, 'precipitation': 3.1881614263340583, 'pressure': 5.837674608475568, 'temperature': 19.842371547417894, 'timestamp': '2022-07-14 16:36:37', 'wind_direction': 271.1112025279801, 'wind_speed': 28.73783457752212}, {'humidity': 8.303072938259646, 'precipitation': 3.300712262340425, 'pressure': 20.341283923802855, 'temperature': 1.0277794576098231, 'timestamp': '2022-07-14 16:36:37', 'wind_direction': 359.3243787436676, 'wind_speed': 0.11316845130928899}, {'humidity': 12.518100476144001, 'precipitation': 2.136180123759971, 'pressure': 11.30481102287208, 'temperature': 11.996231527196832, 'timestamp': '2022-07-14 16:36:37', 'wind_direction': 311.7028835877047, 'wind_speed': 11.318523476638209}, {'humidity': 9.377146714244592, 'precipitation': 3.040056458275889, 'pressure': 7.591662521977506, 'temperature': 13.541298220371491, 'timestamp': '2022-07-14 16:36:37', 'wind_direction': 246.75329701879653, 'wind_speed': 16.9514281233611}, {'humidity': 15.692258092550691, 'precipitation': 1.3910746351369254, 'pressure': 11.188050631963112, 'temperature': 19.355536251149875, 'timestamp': '2022-07-14 16:36:37', 'wind_direction': 324.2302684733514, 'wind_speed': 2.2724470290447476}, {'humidity': 24.35822835240834, 'precipitation': 2.666822319329274, 'pressure': 29.652586189311634, 'temperature': 14.528106149329549, 'timestamp': '2022-07-14 16:36:37', 'wind_direction': 167.97181595738675, 'wind_speed': 26.07076851583124}, {'humidity': 26.72636237151025, 'precipitation': 2.4330014592184908, 'pressure': 8.279950372877552, 'temperature': 26.55546258877969, 'timestamp': '2022-07-14 16:36:37', 'wind_direction': 344.8745352014554, 'wind_speed': 20.34511588172704}]\n"
     ]
    }
   ],
   "source": [
    "# test dump all\n",
    "payload = {\n",
    "    \"secret_key\": \"ABC123-this-is-a-pi-secret-key\",\n",
    "}\n",
    "\n",
    "response = requests.post(\n",
    "    \"http://127.0.0.1:5000/utility/dump_all\",\n",
    "    json=payload\n",
    ")\n",
    "data = json.loads(response.text)\n",
    "print(data)\n",
    "# cannot compare, will include time stamp"
   ]
  },
  {
   "cell_type": "code",
   "execution_count": 6,
   "metadata": {},
   "outputs": [],
   "source": [
    "# delete before date\n",
    "payload = {\n",
    "    \"secret_key\": \"ABC123-this-is-a-pi-secret-key\",\n",
    "    \"date\": \"2022-07-11 13:34:25\"\n",
    "}\n",
    "\n",
    "response = requests.post(\n",
    "    \"http://127.0.0.1:5000/utility/delete_before_date\",\n",
    "    json=payload\n",
    ")\n",
    "# cannot compare, will include time stamp\n"
   ]
  }
 ],
 "metadata": {
  "kernelspec": {
   "display_name": "Python 3.10.5 64-bit",
   "language": "python",
   "name": "python3"
  },
  "language_info": {
   "codemirror_mode": {
    "name": "ipython",
    "version": 3
   },
   "file_extension": ".py",
   "mimetype": "text/x-python",
   "name": "python",
   "nbconvert_exporter": "python",
   "pygments_lexer": "ipython3",
   "version": "3.10.5"
  },
  "orig_nbformat": 4,
  "vscode": {
   "interpreter": {
    "hash": "cc45c200c7f90ebd7138edc4359d8a4d1463d5fc7bc10f26fa23a360b6323213"
   }
  }
 },
 "nbformat": 4,
 "nbformat_minor": 2
}
