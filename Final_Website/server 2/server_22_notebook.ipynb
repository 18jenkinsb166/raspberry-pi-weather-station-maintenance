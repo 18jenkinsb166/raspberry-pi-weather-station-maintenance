{
 "cells": [
  {
   "cell_type": "code",
   "execution_count": 70,
   "metadata": {},
   "outputs": [],
   "source": [
    "# local import\n",
    "import server_22 as server\n",
    "import random\n",
    "import json"
   ]
  },
  {
   "cell_type": "code",
   "execution_count": 71,
   "metadata": {},
   "outputs": [
    {
     "name": "stdout",
     "output_type": "stream",
     "text": [
      "{'pressure': 28.817305451814228, 'temperature': 28.791412705961907, 'humidity': 20.13762068090783, 'wind_speed': 2.4210291023448436, 'wind_direction': 23.812234495561952, 'precipitation': 4.162862022003287, 'timestamp': datetime.datetime(2022, 6, 1, 14, 4, 31, 5858)}\n"
     ]
    },
    {
     "ename": "ValidationError",
     "evalue": "{'_schema': ['Invalid input type.']}",
     "output_type": "error",
     "traceback": [
      "\u001b[1;31m---------------------------------------------------------------------------\u001b[0m",
      "\u001b[1;31mValidationError\u001b[0m                           Traceback (most recent call last)",
      "\u001b[1;32m~\\AppData\\Local\\Temp/ipykernel_11328/3055330791.py\u001b[0m in \u001b[0;36m<module>\u001b[1;34m\u001b[0m\n\u001b[0;32m     18\u001b[0m }\n\u001b[0;32m     19\u001b[0m \u001b[1;33m\u001b[0m\u001b[0m\n\u001b[1;32m---> 20\u001b[1;33m \u001b[0mnew_readings\u001b[0m\u001b[1;33m:\u001b[0m \u001b[0mserver\u001b[0m\u001b[1;33m.\u001b[0m\u001b[0mReading_Uncalibrated\u001b[0m \u001b[1;33m=\u001b[0m \u001b[0mserver\u001b[0m\u001b[1;33m.\u001b[0m\u001b[0mreading_uncalibrated_schema\u001b[0m\u001b[1;33m.\u001b[0m\u001b[0mload\u001b[0m\u001b[1;33m(\u001b[0m\u001b[0mnew_readings_json\u001b[0m\u001b[1;33m,\u001b[0m \u001b[0msession\u001b[0m\u001b[1;33m=\u001b[0m\u001b[0mserver\u001b[0m\u001b[1;33m.\u001b[0m\u001b[0msession\u001b[0m\u001b[1;33m)\u001b[0m\u001b[1;33m\u001b[0m\u001b[1;33m\u001b[0m\u001b[0m\n\u001b[0m\u001b[0;32m     21\u001b[0m \u001b[1;31m# new_reading: server.Reading_Uncalibrated = server.reading_uncalibrated_schema.dump(new_readings_json)\u001b[0m\u001b[1;33m\u001b[0m\u001b[1;33m\u001b[0m\u001b[0m\n\u001b[0;32m     22\u001b[0m \u001b[1;33m\u001b[0m\u001b[0m\n",
      "\u001b[1;32mc:\\Users\\henry\\AppData\\Local\\Programs\\Python\\Python310\\lib\\site-packages\\marshmallow_sqlalchemy\\load_instance_mixin.py\u001b[0m in \u001b[0;36mload\u001b[1;34m(self, data, session, instance, transient, **kwargs)\u001b[0m\n\u001b[0;32m     94\u001b[0m             \u001b[0mself\u001b[0m\u001b[1;33m.\u001b[0m\u001b[0minstance\u001b[0m \u001b[1;33m=\u001b[0m \u001b[0minstance\u001b[0m \u001b[1;32mor\u001b[0m \u001b[0mself\u001b[0m\u001b[1;33m.\u001b[0m\u001b[0minstance\u001b[0m\u001b[1;33m\u001b[0m\u001b[1;33m\u001b[0m\u001b[0m\n\u001b[0;32m     95\u001b[0m             \u001b[1;32mtry\u001b[0m\u001b[1;33m:\u001b[0m\u001b[1;33m\u001b[0m\u001b[1;33m\u001b[0m\u001b[0m\n\u001b[1;32m---> 96\u001b[1;33m                 \u001b[1;32mreturn\u001b[0m \u001b[0msuper\u001b[0m\u001b[1;33m(\u001b[0m\u001b[1;33m)\u001b[0m\u001b[1;33m.\u001b[0m\u001b[0mload\u001b[0m\u001b[1;33m(\u001b[0m\u001b[0mdata\u001b[0m\u001b[1;33m,\u001b[0m \u001b[1;33m**\u001b[0m\u001b[0mkwargs\u001b[0m\u001b[1;33m)\u001b[0m\u001b[1;33m\u001b[0m\u001b[1;33m\u001b[0m\u001b[0m\n\u001b[0m\u001b[0;32m     97\u001b[0m             \u001b[1;32mfinally\u001b[0m\u001b[1;33m:\u001b[0m\u001b[1;33m\u001b[0m\u001b[1;33m\u001b[0m\u001b[0m\n\u001b[0;32m     98\u001b[0m                 \u001b[0mself\u001b[0m\u001b[1;33m.\u001b[0m\u001b[0minstance\u001b[0m \u001b[1;33m=\u001b[0m \u001b[1;32mNone\u001b[0m\u001b[1;33m\u001b[0m\u001b[1;33m\u001b[0m\u001b[0m\n",
      "\u001b[1;32mc:\\Users\\henry\\AppData\\Local\\Programs\\Python\\Python310\\lib\\site-packages\\marshmallow\\schema.py\u001b[0m in \u001b[0;36mload\u001b[1;34m(self, data, many, partial, unknown)\u001b[0m\n\u001b[0;32m    720\u001b[0m             \u001b[1;32mif\u001b[0m \u001b[0minvalid\u001b[0m \u001b[0mdata\u001b[0m \u001b[0mare\u001b[0m \u001b[0mpassed\u001b[0m\u001b[1;33m.\u001b[0m\u001b[1;33m\u001b[0m\u001b[1;33m\u001b[0m\u001b[0m\n\u001b[0;32m    721\u001b[0m         \"\"\"\n\u001b[1;32m--> 722\u001b[1;33m         return self._do_load(\n\u001b[0m\u001b[0;32m    723\u001b[0m             \u001b[0mdata\u001b[0m\u001b[1;33m,\u001b[0m \u001b[0mmany\u001b[0m\u001b[1;33m=\u001b[0m\u001b[0mmany\u001b[0m\u001b[1;33m,\u001b[0m \u001b[0mpartial\u001b[0m\u001b[1;33m=\u001b[0m\u001b[0mpartial\u001b[0m\u001b[1;33m,\u001b[0m \u001b[0munknown\u001b[0m\u001b[1;33m=\u001b[0m\u001b[0munknown\u001b[0m\u001b[1;33m,\u001b[0m \u001b[0mpostprocess\u001b[0m\u001b[1;33m=\u001b[0m\u001b[1;32mTrue\u001b[0m\u001b[1;33m\u001b[0m\u001b[1;33m\u001b[0m\u001b[0m\n\u001b[0;32m    724\u001b[0m         )\n",
      "\u001b[1;32mc:\\Users\\henry\\AppData\\Local\\Programs\\Python\\Python310\\lib\\site-packages\\marshmallow\\schema.py\u001b[0m in \u001b[0;36m_do_load\u001b[1;34m(self, data, many, partial, unknown, postprocess)\u001b[0m\n\u001b[0;32m    907\u001b[0m             \u001b[0mexc\u001b[0m \u001b[1;33m=\u001b[0m \u001b[0mValidationError\u001b[0m\u001b[1;33m(\u001b[0m\u001b[0merrors\u001b[0m\u001b[1;33m,\u001b[0m \u001b[0mdata\u001b[0m\u001b[1;33m=\u001b[0m\u001b[0mdata\u001b[0m\u001b[1;33m,\u001b[0m \u001b[0mvalid_data\u001b[0m\u001b[1;33m=\u001b[0m\u001b[0mresult\u001b[0m\u001b[1;33m)\u001b[0m\u001b[1;33m\u001b[0m\u001b[1;33m\u001b[0m\u001b[0m\n\u001b[0;32m    908\u001b[0m             \u001b[0mself\u001b[0m\u001b[1;33m.\u001b[0m\u001b[0mhandle_error\u001b[0m\u001b[1;33m(\u001b[0m\u001b[0mexc\u001b[0m\u001b[1;33m,\u001b[0m \u001b[0mdata\u001b[0m\u001b[1;33m,\u001b[0m \u001b[0mmany\u001b[0m\u001b[1;33m=\u001b[0m\u001b[0mmany\u001b[0m\u001b[1;33m,\u001b[0m \u001b[0mpartial\u001b[0m\u001b[1;33m=\u001b[0m\u001b[0mpartial\u001b[0m\u001b[1;33m)\u001b[0m\u001b[1;33m\u001b[0m\u001b[1;33m\u001b[0m\u001b[0m\n\u001b[1;32m--> 909\u001b[1;33m             \u001b[1;32mraise\u001b[0m \u001b[0mexc\u001b[0m\u001b[1;33m\u001b[0m\u001b[1;33m\u001b[0m\u001b[0m\n\u001b[0m\u001b[0;32m    910\u001b[0m \u001b[1;33m\u001b[0m\u001b[0m\n\u001b[0;32m    911\u001b[0m         \u001b[1;32mreturn\u001b[0m \u001b[0mresult\u001b[0m\u001b[1;33m\u001b[0m\u001b[1;33m\u001b[0m\u001b[0m\n",
      "\u001b[1;31mValidationError\u001b[0m: {'_schema': ['Invalid input type.']}"
     ]
    }
   ],
   "source": [
    "# new_readings_json: str = json.loads(json.dumps({\n",
    "#     'pressure': random.uniform(0, 30),\n",
    "#     'temperature': random.uniform(0, 30),\n",
    "#     'humidity': random.uniform(0, 30),\n",
    "#     'wind_speed': random.uniform(0, 30),\n",
    "#     'wind_direction': random.uniform(0, 30),\n",
    "#     'precipitation': random.uniform(0, 30)\n",
    "# }))\n",
    "# new_readings: server.Reading_Uncalibrated = server.reading_uncalibrated_schema.loads(new_readings_json, session=server.session)\n",
    "\n",
    "new_readings_json = {\n",
    "    'pressure': random.uniform(0, 30),\n",
    "    'temperature': random.uniform(0, 30),\n",
    "    'humidity': random.uniform(0, 30),\n",
    "    'wind_speed': random.uniform(0, 30),\n",
    "    'wind_direction': random.uniform(0, 30),\n",
    "    'precipitation': random.uniform(0, 30)\n",
    "}\n",
    "\n",
    "new_readings: server.Reading_Uncalibrated = server.reading_uncalibrated_schema.load(new_readings_json, session=server.session)\n",
    "# new_reading: server.Reading_Uncalibrated = server.reading_uncalibrated_schema.dump(new_readings_json)\n",
    "\n",
    "# new_reading"
   ]
  }
 ],
 "metadata": {
  "interpreter": {
   "hash": "1215b1aecdd8c83375b241d0c862057777d1b41ed412da38189195d086960e71"
  },
  "kernelspec": {
   "display_name": "Python 3.10.0 64-bit",
   "language": "python",
   "name": "python3"
  },
  "language_info": {
   "codemirror_mode": {
    "name": "ipython",
    "version": 3
   },
   "file_extension": ".py",
   "mimetype": "text/x-python",
   "name": "python",
   "nbconvert_exporter": "python",
   "pygments_lexer": "ipython3",
   "version": "3.10.0"
  },
  "orig_nbformat": 4
 },
 "nbformat": 4,
 "nbformat_minor": 2
}
