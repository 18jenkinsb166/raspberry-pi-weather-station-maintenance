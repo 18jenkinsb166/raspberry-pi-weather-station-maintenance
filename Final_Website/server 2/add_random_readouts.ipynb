{
 "cells": [
  {
   "cell_type": "code",
   "execution_count": 7,
   "metadata": {},
   "outputs": [],
   "source": [
    "import server\n",
    "import random\n",
    "from datetime import datetime"
   ]
  },
  {
   "cell_type": "code",
   "execution_count": 8,
   "metadata": {},
   "outputs": [],
   "source": [
    "def create_random_data_reading() -> server.Data_Reading:\n",
    "    return server.Data_Reading(\n",
    "        timestamp=datetime.now(),\n",
    "        pressure=random.uniform(0.0, 20.0),\n",
    "        temperature=random.uniform(0.0, 20.0),\n",
    "        humidity=random.uniform(0.0, 20.0),\n",
    "        wind_speed=random.uniform(0.0, 20.0),\n",
    "        wind_direction=random.uniform(0.0, 334.5),\n",
    "        precipitation=random.uniform(0.0, 20.0),\n",
    "    )\n"
   ]
  },
  {
   "cell_type": "code",
   "execution_count": 9,
   "metadata": {},
   "outputs": [],
   "source": [
    "for _ in range(10):\n",
    "    server.db.session.add(\n",
    "        create_random_data_reading()\n",
    "    )\n",
    "server.db.session.commit()\n"
   ]
  }
 ],
 "metadata": {
  "interpreter": {
   "hash": "1215b1aecdd8c83375b241d0c862057777d1b41ed412da38189195d086960e71"
  },
  "kernelspec": {
   "display_name": "Python 3.10.0 64-bit",
   "language": "python",
   "name": "python3"
  },
  "language_info": {
   "codemirror_mode": {
    "name": "ipython",
    "version": 3
   },
   "file_extension": ".py",
   "mimetype": "text/x-python",
   "name": "python",
   "nbconvert_exporter": "python",
   "pygments_lexer": "ipython3",
   "version": "3.10.0"
  },
  "orig_nbformat": 4
 },
 "nbformat": 4,
 "nbformat_minor": 2
}
