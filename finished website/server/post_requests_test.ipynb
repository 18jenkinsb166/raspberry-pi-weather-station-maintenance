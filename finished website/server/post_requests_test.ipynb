{
 "cells": [
  {
   "cell_type": "code",
   "execution_count": 13,
   "metadata": {},
   "outputs": [],
   "source": [
    "import requests"
   ]
  },
  {
   "cell_type": "code",
   "execution_count": 14,
   "metadata": {},
   "outputs": [
    {
     "data": {
      "text/plain": [
       "<Response [200]>"
      ]
     },
     "execution_count": 14,
     "metadata": {},
     "output_type": "execute_result"
    }
   ],
   "source": [
    "# test delete\n",
    "payload = {\n",
    "    \"secret_key\": \"ABC123-this-is-a-pi-secret-key\"\n",
    "}\n",
    "requests.post(\n",
    "    \"http://127.0.0.1:5000/utility/delete\",\n",
    "    json=payload\n",
    ")"
   ]
  },
  {
   "cell_type": "code",
   "execution_count": 15,
   "metadata": {},
   "outputs": [],
   "source": [
    "payload = {\n",
    "    \"secret_key\": \"ABC123-this-is-a-pi-secret-key\"\n",
    "}\n",
    "response = requests.post(\n",
    "    \"http://127.0.0.1:5000/utility/server_log\",\n",
    "    json=payload\n",
    ")\n",
    "with open(\"log local coppy.txt\", \"wb\") as file:\n",
    "    file.write(\n",
    "        response.content\n",
    "    )\n",
    "\n"
   ]
  }
 ],
 "metadata": {
  "kernelspec": {
   "display_name": "Python 3.10.0 64-bit",
   "language": "python",
   "name": "python3"
  },
  "language_info": {
   "codemirror_mode": {
    "name": "ipython",
    "version": 3
   },
   "file_extension": ".py",
   "mimetype": "text/x-python",
   "name": "python",
   "nbconvert_exporter": "python",
   "pygments_lexer": "ipython3",
   "version": "3.10.0"
  },
  "orig_nbformat": 4,
  "vscode": {
   "interpreter": {
    "hash": "1215b1aecdd8c83375b241d0c862057777d1b41ed412da38189195d086960e71"
   }
  }
 },
 "nbformat": 4,
 "nbformat_minor": 2
}
