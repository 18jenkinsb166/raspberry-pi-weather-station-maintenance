{
 "cells": [
  {
   "cell_type": "code",
   "execution_count": 9,
   "metadata": {},
   "outputs": [],
   "source": [
    "import requests\n",
    "import random\n",
    "import json"
   ]
  },
  {
   "cell_type": "code",
   "execution_count": 5,
   "metadata": {},
   "outputs": [
    {
     "data": {
      "text/plain": [
       "<Response [200]>"
      ]
     },
     "execution_count": 5,
     "metadata": {},
     "output_type": "execute_result"
    }
   ],
   "source": [
    "# test delete\n",
    "payload = {\n",
    "    \"secret_key\": \"ABC123-this-is-a-pi-secret-key\"\n",
    "}\n",
    "requests.post(\n",
    "    \"http://127.0.0.1:5000/utility/delete\",\n",
    "    json=payload\n",
    ")"
   ]
  },
  {
   "cell_type": "code",
   "execution_count": 15,
   "metadata": {},
   "outputs": [],
   "source": [
    "payload = {\n",
    "    \"secret_key\": \"ABC123-this-is-a-pi-secret-key\"\n",
    "}\n",
    "response = requests.post(\n",
    "    \"http://127.0.0.1:5000/utility/server_log\",\n",
    "    json=payload\n",
    ")\n",
    "with open(\"log local coppy.txt\", \"wb\") as file:\n",
    "    file.write(\n",
    "        response.content\n",
    "    )"
   ]
  },
  {
   "cell_type": "code",
   "execution_count": 6,
   "metadata": {},
   "outputs": [],
   "source": [
    "# test load many\n",
    "def new_random_reading():\n",
    "    return {\n",
    "        'pressure': random.uniform(0,30),\n",
    "        'temperature': random.uniform(0, 30),\n",
    "        'humidity': random.uniform(0, 30),\n",
    "        'wind_speed': random.uniform(0, 30),\n",
    "        'wind_direction': random.uniform(0, 360),\n",
    "        'precipitation': random.uniform(0, 4)\n",
    "    }\n",
    "\n",
    "\n",
    "new_data_items = [new_random_reading() for _ in range(20)]\n",
    "payload = {\n",
    "    \"secret_key\": \"ABC123-this-is-a-pi-secret-key\",\n",
    "    'new_data_items': new_data_items\n",
    "}\n",
    "\n",
    "response = requests.post(\n",
    "    \"http://127.0.0.1:5000/utility/load_many\",\n",
    "    json=payload\n",
    ")\n"
   ]
  },
  {
   "cell_type": "code",
   "execution_count": 11,
   "metadata": {},
   "outputs": [
    {
     "name": "stdout",
     "output_type": "stream",
     "text": [
      "[{'humidity': 28.866366260482092, 'precipitation': 3.3892742049090145, 'pressure': 9.282333412414781, 'temperature': 0.5180148633452508, 'timestamp': '2022-07-11 19:39:21', 'wind_direction': 256.18584942007874, 'wind_speed': 27.401628585677525}, {'humidity': 16.42763069996044, 'precipitation': 3.779218549722152, 'pressure': 15.958475964194498, 'temperature': 25.02594323239069, 'timestamp': '2022-07-11 19:39:21', 'wind_direction': 32.618448732951336, 'wind_speed': 15.38515668441157}, {'humidity': 13.793527862732212, 'precipitation': 2.0036834926185128, 'pressure': 15.698462252480962, 'temperature': 5.39159227332097, 'timestamp': '2022-07-11 19:39:21', 'wind_direction': 259.2083314753128, 'wind_speed': 21.405283138273546}, {'humidity': 15.715659373272198, 'precipitation': 2.1788703000399705, 'pressure': 7.177063027298373, 'temperature': 19.136053556673854, 'timestamp': '2022-07-11 19:39:21', 'wind_direction': 234.7737554148315, 'wind_speed': 16.563253327299932}, {'humidity': 18.415201249894636, 'precipitation': 1.4307638380465866, 'pressure': 24.903676673357726, 'temperature': 4.112498438908597, 'timestamp': '2022-07-11 19:39:21', 'wind_direction': 340.88056988773445, 'wind_speed': 15.496181132036085}, {'humidity': 18.494514532877186, 'precipitation': 2.306835863883278, 'pressure': 26.79799021982886, 'temperature': 26.672213384768245, 'timestamp': '2022-07-11 19:39:21', 'wind_direction': 5.192734088502187, 'wind_speed': 1.377521001342057}, {'humidity': 10.701986076014968, 'precipitation': 3.440417280701129, 'pressure': 4.1470053825097475, 'temperature': 8.664639195757225, 'timestamp': '2022-07-11 19:39:21', 'wind_direction': 226.69834906753354, 'wind_speed': 29.36773969165398}, {'humidity': 10.010901495699523, 'precipitation': 2.998469123055736, 'pressure': 0.574696261604255, 'temperature': 27.068027781862828, 'timestamp': '2022-07-11 19:39:21', 'wind_direction': 321.4927494150781, 'wind_speed': 12.229194475882696}, {'humidity': 15.140915474322687, 'precipitation': 2.8592533793570354, 'pressure': 23.272104559788556, 'temperature': 28.893565726017552, 'timestamp': '2022-07-11 19:39:21', 'wind_direction': 284.16959459233453, 'wind_speed': 3.7420501579091567}, {'humidity': 14.059994102744021, 'precipitation': 2.717603238499671, 'pressure': 21.541196149577953, 'temperature': 18.416075004801794, 'timestamp': '2022-07-11 19:39:21', 'wind_direction': 238.76751220328774, 'wind_speed': 13.457048411225578}, {'humidity': 14.956647858071994, 'precipitation': 2.2762947050856304, 'pressure': 18.86998064495421, 'temperature': 29.41990022105957, 'timestamp': '2022-07-11 19:39:21', 'wind_direction': 187.02704424050313, 'wind_speed': 29.77328218351833}, {'humidity': 22.49521426762188, 'precipitation': 3.3756296928950125, 'pressure': 2.9900115869328303, 'temperature': 23.668362613819607, 'timestamp': '2022-07-11 19:39:21', 'wind_direction': 244.88054455600815, 'wind_speed': 4.20316132756599}, {'humidity': 28.43446495792212, 'precipitation': 2.40260267810407, 'pressure': 25.399325504454172, 'temperature': 29.081063566580504, 'timestamp': '2022-07-11 19:39:21', 'wind_direction': 247.1410726827784, 'wind_speed': 10.318105733193363}, {'humidity': 12.441763779312188, 'precipitation': 0.7318479122908288, 'pressure': 3.051752705384172, 'temperature': 17.22878005525627, 'timestamp': '2022-07-11 19:39:21', 'wind_direction': 188.80699819336817, 'wind_speed': 27.0941560262127}, {'humidity': 15.970556013077646, 'precipitation': 3.4577319709705283, 'pressure': 27.25625624219857, 'temperature': 6.71372716737668, 'timestamp': '2022-07-11 19:39:21', 'wind_direction': 172.97434065000883, 'wind_speed': 27.96519613586224}, {'humidity': 13.802663669315946, 'precipitation': 0.5359320252380506, 'pressure': 1.273973257834048, 'temperature': 19.856646145553484, 'timestamp': '2022-07-11 19:39:21', 'wind_direction': 63.43785735016882, 'wind_speed': 8.963734241558946}, {'humidity': 6.205366827741509, 'precipitation': 1.7103304288747117, 'pressure': 10.963297221574633, 'temperature': 10.508797731021621, 'timestamp': '2022-07-11 19:39:21', 'wind_direction': 236.25509836465045, 'wind_speed': 13.37519119910002}, {'humidity': 11.285258623536906, 'precipitation': 3.6950704480897985, 'pressure': 5.250548061928905, 'temperature': 5.556846466300021, 'timestamp': '2022-07-11 19:39:21', 'wind_direction': 28.068104506792327, 'wind_speed': 22.59646867817125}, {'humidity': 17.645461971455873, 'precipitation': 0.37931896337268745, 'pressure': 18.354152391805666, 'temperature': 2.5269744492305444, 'timestamp': '2022-07-11 19:39:21', 'wind_direction': 105.32899263847531, 'wind_speed': 0.8004489781009128}, {'humidity': 7.022584700024027, 'precipitation': 2.540187188680018, 'pressure': 24.79475016272027, 'temperature': 3.4197782559520027, 'timestamp': '2022-07-11 19:39:21', 'wind_direction': 167.77845473147354, 'wind_speed': 21.22082205247325}]\n"
     ]
    },
    {
     "ename": "AssertionError",
     "evalue": "",
     "output_type": "error",
     "traceback": [
      "\u001b[1;31m---------------------------------------------------------------------------\u001b[0m",
      "\u001b[1;31mAssertionError\u001b[0m                            Traceback (most recent call last)",
      "\u001b[1;32m~\\AppData\\Local\\Temp/ipykernel_18332/3354854653.py\u001b[0m in \u001b[0;36m<module>\u001b[1;34m\u001b[0m\n\u001b[0;32m     10\u001b[0m \u001b[0mdata\u001b[0m \u001b[1;33m=\u001b[0m \u001b[0mjson\u001b[0m\u001b[1;33m.\u001b[0m\u001b[0mloads\u001b[0m\u001b[1;33m(\u001b[0m\u001b[0mresponse\u001b[0m\u001b[1;33m.\u001b[0m\u001b[0mtext\u001b[0m\u001b[1;33m)\u001b[0m\u001b[1;33m\u001b[0m\u001b[1;33m\u001b[0m\u001b[0m\n\u001b[0;32m     11\u001b[0m \u001b[0mprint\u001b[0m\u001b[1;33m(\u001b[0m\u001b[0mdata\u001b[0m\u001b[1;33m)\u001b[0m\u001b[1;33m\u001b[0m\u001b[1;33m\u001b[0m\u001b[0m\n\u001b[1;32m---> 12\u001b[1;33m \u001b[1;32massert\u001b[0m \u001b[0mdata\u001b[0m \u001b[1;33m==\u001b[0m \u001b[0mnew_data_items\u001b[0m\u001b[1;33m\u001b[0m\u001b[1;33m\u001b[0m\u001b[0m\n\u001b[0m",
      "\u001b[1;31mAssertionError\u001b[0m: "
     ]
    }
   ],
   "source": [
    "# test dump all\n",
    "payload = {\n",
    "    \"secret_key\": \"ABC123-this-is-a-pi-secret-key\",\n",
    "}\n",
    "\n",
    "response = requests.post(\n",
    "    \"http://127.0.0.1:5000/utility/dump_all\",\n",
    "    json=payload\n",
    ")\n",
    "data = json.loads(response.text)\n",
    "print(data)\n",
    "# cannot compare, will include time stamp"
   ]
  }
 ],
 "metadata": {
  "kernelspec": {
   "display_name": "Python 3.10.0 64-bit",
   "language": "python",
   "name": "python3"
  },
  "language_info": {
   "codemirror_mode": {
    "name": "ipython",
    "version": 3
   },
   "file_extension": ".py",
   "mimetype": "text/x-python",
   "name": "python",
   "nbconvert_exporter": "python",
   "pygments_lexer": "ipython3",
   "version": "3.10.0"
  },
  "orig_nbformat": 4,
  "vscode": {
   "interpreter": {
    "hash": "1215b1aecdd8c83375b241d0c862057777d1b41ed412da38189195d086960e71"
   }
  }
 },
 "nbformat": 4,
 "nbformat_minor": 2
}
